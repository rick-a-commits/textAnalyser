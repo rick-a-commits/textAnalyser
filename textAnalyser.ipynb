{
 "cells": [
  {
   "cell_type": "code",
   "execution_count": null,
   "metadata": {},
   "outputs": [],
   "source": [
    "#importing a list of punctuations\n",
    "import string\n",
    "punctuation_list = string.punctuation\n",
    "\n",
    "#creating class\n",
    "class TextAnalyzer(object):\n",
    "    \n",
    "    def __init__ (self, text):\n",
    "        # remove punctuation\n",
    "     for punctuation in punctuation_list:\n",
    "        text = text.replace(punctuation,\"\")\n",
    "        # make text lowercase\n",
    "        lower_text = text.lower()\n",
    "        self.formattedText = lower_text\n",
    "        \n",
    "    def freqAll(self):        \n",
    "        # split text into words\n",
    "        word_list = self.formattedText.split(\" \")\n",
    "        \n",
    "        # Create dictionary\n",
    "        dict = {}\n",
    "        wordlist = set(word_list)\n",
    "        for word in wordlist:\n",
    "            dict[word] = word_list.count(word)\n",
    "        return {key: value for key, value in sorted(dict.items(), key=lambda item: item[1], reverse=True)}\n",
    "            \n",
    "        \n",
    "    def freqOf(self,word):\n",
    "        # get frequency map\n",
    "        word_freq = self.freqAll()\n",
    "        word = word.lower()\n",
    "        if word in word_freq:\n",
    "            return f\"{word.capitalize()} appeared {word_freq[word]} times\"\n",
    "        else:\n",
    "            return \"word not found\""
   ]
  },
  {
   "cell_type": "code",
   "execution_count": 109,
   "metadata": {},
   "outputs": [],
   "source": [
    "text = \"I have come a long way from my Python Journey. I remember first printing 'Hello World!' in Python. Now I am writing more advanced code in Python.\""
   ]
  },
  {
   "cell_type": "code",
   "execution_count": 110,
   "metadata": {},
   "outputs": [
    {
     "data": {
      "text/plain": [
       "{'i': 3,\n",
       " 'python': 3,\n",
       " 'in': 2,\n",
       " 'my': 1,\n",
       " 'have': 1,\n",
       " 'now': 1,\n",
       " 'printing': 1,\n",
       " 'more': 1,\n",
       " 'a': 1,\n",
       " 'journey': 1,\n",
       " 'remember': 1,\n",
       " 'long': 1,\n",
       " 'come': 1,\n",
       " 'from': 1,\n",
       " 'am': 1,\n",
       " 'hello': 1,\n",
       " 'writing': 1,\n",
       " 'advanced': 1,\n",
       " 'first': 1,\n",
       " 'world': 1,\n",
       " 'way': 1,\n",
       " 'code': 1}"
      ]
     },
     "execution_count": 110,
     "metadata": {},
     "output_type": "execute_result"
    }
   ],
   "source": [
    "TextAnalyzer(text).freqAll()"
   ]
  },
  {
   "cell_type": "code",
   "execution_count": 111,
   "metadata": {},
   "outputs": [
    {
     "data": {
      "text/plain": [
       "'Python appeared 3 times'"
      ]
     },
     "execution_count": 111,
     "metadata": {},
     "output_type": "execute_result"
    }
   ],
   "source": [
    "TextAnalyzer(text).freqOf(\"Python\")"
   ]
  },
  {
   "cell_type": "code",
   "execution_count": null,
   "metadata": {},
   "outputs": [],
   "source": []
  }
 ],
 "metadata": {
  "kernelspec": {
   "display_name": "Python 3",
   "language": "python",
   "name": "python3"
  },
  "language_info": {
   "codemirror_mode": {
    "name": "ipython",
    "version": 3
   },
   "file_extension": ".py",
   "mimetype": "text/x-python",
   "name": "python",
   "nbconvert_exporter": "python",
   "pygments_lexer": "ipython3",
   "version": "3.13.0"
  }
 },
 "nbformat": 4,
 "nbformat_minor": 2
}
