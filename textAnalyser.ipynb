{
 "cells": [
  {
   "cell_type": "code",
   "execution_count": null,
   "metadata": {},
   "outputs": [],
   "source": [
    "#Press Shift+Enter to run the code\n",
    "import string\n",
    "punctuation_list = string.punctuation\n",
    "class TextAnalyzer(object):\n",
    "    \n",
    "    def __init__ (self, text):\n",
    "        # remove punctuation\n",
    "     for punctuation in punctuation_list:\n",
    "        text = text.replace(punctuation,\"\")\n",
    "        # make text lowercase\n",
    "        lower_text = text.lower()\n",
    "        self.formattedText = lower_text\n",
    "        \n",
    "    def freqAll(self):        \n",
    "        # split text into words\n",
    "        word_list = self.formattedText.split(\" \")\n",
    "        \n",
    "        # Create dictionary\n",
    "        dict = {}\n",
    "        for word in set(word_list):\n",
    "            dict[word] = word_list.count(word)\n",
    "        return {key: value for key, value in sorted(dict.items(), key=lambda item: item[1], reverse=True)}\n",
    "            \n",
    "           \n",
    "    def freqOf(self,word):\n",
    "        # get frequency map\n",
    "        word_freq = self.freqAll()\n",
    "        if word in word_freq:\n",
    "            return word_freq[word]\n",
    "        else:\n",
    "            return \"word not found\""
   ]
  }
 ],
 "metadata": {
  "kernelspec": {
   "display_name": "Python 3",
   "language": "python",
   "name": "python3"
  },
  "language_info": {
   "name": "python",
   "version": "3.13.0"
  }
 },
 "nbformat": 4,
 "nbformat_minor": 2
}
